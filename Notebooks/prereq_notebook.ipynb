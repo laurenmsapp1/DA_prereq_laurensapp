{
 "cells": [
  {
   "cell_type": "code",
   "execution_count": 1,
   "id": "dcd2cd63",
   "metadata": {},
   "outputs": [
    {
     "name": "stdout",
     "output_type": "stream",
     "text": [
      "So excited to be here!\n"
     ]
    }
   ],
   "source": [
    "print (\"So excited to be here!\")"
   ]
  },
  {
   "cell_type": "markdown",
   "id": "ecc6fe6b",
   "metadata": {},
   "source": [
    "My name is Lauren Sapp. I currently work for eBlu Solutions as the manager of Operations. I signed up for Code:You to improve my knowledge so I can better work with our development team.\n",
    "I love to learn and am looking forward to being able to understand better how our website was built and how we can continue to improve it.\n",
    "I love working stats and comparisons to ensure my team is productive and efficient."
   ]
  }
 ],
 "metadata": {
  "kernelspec": {
   "display_name": "Python 3",
   "language": "python",
   "name": "python3"
  },
  "language_info": {
   "codemirror_mode": {
    "name": "ipython",
    "version": 3
   },
   "file_extension": ".py",
   "mimetype": "text/x-python",
   "name": "python",
   "nbconvert_exporter": "python",
   "pygments_lexer": "ipython3",
   "version": "3.13.5"
  }
 },
 "nbformat": 4,
 "nbformat_minor": 5
}
